{
 "cells": [
  {
   "cell_type": "code",
   "execution_count": 1,
   "metadata": {},
   "outputs": [],
   "source": [
    "import numpy as np\n",
    "import warnings, os, json, itertools\n",
    "# warnings.filterwarnings(\"ignore\")\n",
    "\n",
    "from joblib import Parallel, delayed\n",
    "\n",
    "from CombinedDataModule import *\n",
    "from utils import *\n",
    "from run_utils import *\n",
    "from estimators import *"
   ]
  },
  {
   "cell_type": "code",
   "execution_count": 2,
   "metadata": {},
   "outputs": [],
   "source": [
    "d = 2                           # 2-dim. covariate vector\n",
    "n_MC = 50000                    # num. Monte Carlo samples to calculate ground truth mean in the target population\n",
    "X_range = np.linspace(-1,1,51)  # range of the first covariate\n",
    "U_range = np.linspace(-1,1,51)  # range of the first covariate\n",
    "\n",
    "n_rct = 200    # trial sample size\n",
    "n_tar = 20000   # target sample size\n",
    "n_obs = 50000   # observational sample size\n",
    "\n",
    "num_case_per_setting = 40               # num. different ground-truth cases to simulate for EACH GP param. setting\n",
    "num_runs_per_case = 100                  # num. runs for EACH ground-truth case. a new trial sample is drawn every time.\n",
    "big_n_rct = num_runs_per_case * n_rct   # sample a big trial once and use its partitions in each run \n",
    "\n",
    "poly_degrees = [1,4,7,10]\n",
    "\n",
    "om_A1_par_list = [{'ls':[0.5,0.5], 'alpha':[5,5]},\n",
    "                  {'ls':[0.2,0.5], 'alpha':[5,5]},\n",
    "                  {'ls':[0.1,0.5], 'alpha':[5,5]}]\n",
    "\n",
    "w_trt_par_list = [{'ls':[1e6,1], 'alpha':[0,1]},\n",
    "                  {'ls':[1e6,1], 'alpha':[0,5]},\n",
    "                  {'ls':[1e6,1], 'alpha':[0,10]}]\n",
    "\n",
    "# w_trt_par_list = [{'ls':[1,1e6], 'alpha':[1,0]}]\n",
    "\n",
    "w_sel_par = {'ls':[1,1e6], 'alpha':[10,0]}\n",
    "om_A0_par = {'ls':np.array([1,1]), 'alpha':[1,1]}  # unused rn.\n",
    "\n",
    "num_setting = len(om_A1_par_list) * len(w_trt_par_list)\n",
    "\n",
    "np.random.seed(42)\n",
    "case_seeds = np.random.randint(1e6, size=num_case_per_setting)\n",
    "\n",
    "for ns, (w_trt_par, om_A1_par) in enumerate(itertools.product(w_trt_par_list, om_A1_par_list)):\n",
    "\n",
    "    gp_setting_json = json.dumps({\"w_trt_par\": w_trt_par, \"om_A1_par\": om_A1_par}, indent=4)\n",
    "    save_dir = f\"./results/gp_setting_{ns}\"\n",
    "    os.makedirs(save_dir, exist_ok=True)\n",
    "    json_path = os.path.join(save_dir, f\"gp_setting_{ns}.json\")\n",
    "    with open(json_path, 'w') as json_file:\n",
    "        json_file.write(gp_setting_json)\n",
    "\n",
    "    results= \\\n",
    "    Parallel(n_jobs=36)(delayed(sim_one_case) \\\n",
    "            (case_idx, random_seed, save_dir,  om_A0_par, om_A1_par, w_sel_par, w_trt_par, \\\n",
    "            d, big_n_rct, n_tar, n_obs, n_MC, num_runs_per_case, X_range, U_range, poly_degrees) \\\n",
    "                    for case_idx, random_seed in enumerate(case_seeds))\n",
    "    \n",
    "    save_setting_stats(results, save_dir, poly_degrees)\n",
    "    #sim_one_case(1, 1, save_dir,  om_A0_par, om_A1_par, w_sel_par, w_trt_par,d, big_n_rct, n_tar, n_obs, n_MC, num_runs_per_case, X_range, U_range, poly_degrees)"
   ]
  },
  {
   "cell_type": "code",
   "execution_count": null,
   "metadata": {},
   "outputs": [],
   "source": []
  },
  {
   "cell_type": "code",
   "execution_count": null,
   "metadata": {},
   "outputs": [],
   "source": []
  }
 ],
 "metadata": {
  "kernelspec": {
   "display_name": "cenfal",
   "language": "python",
   "name": "python3"
  },
  "language_info": {
   "codemirror_mode": {
    "name": "ipython",
    "version": 3
   },
   "file_extension": ".py",
   "mimetype": "text/x-python",
   "name": "python",
   "nbconvert_exporter": "python",
   "pygments_lexer": "ipython3",
   "version": "3.11.5"
  }
 },
 "nbformat": 4,
 "nbformat_minor": 2
}
