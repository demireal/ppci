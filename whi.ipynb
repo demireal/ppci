{
 "cells": [
  {
   "cell_type": "code",
   "execution_count": null,
   "metadata": {},
   "outputs": [],
   "source": [
    "import warnings\n",
    "warnings.filterwarnings(\"ignore\")\n",
    "\n",
    "from sklearn.model_selection import KFold\n",
    "from sklearn.preprocessing import StandardScaler \n",
    "\n",
    "import numpy as np\n",
    "import pandas as pd\n",
    "import matplotlib.pyplot as plt\n",
    "\n",
    "from whi_utils import * "
   ]
  },
  {
   "cell_type": "code",
   "execution_count": null,
   "metadata": {},
   "outputs": [],
   "source": [
    "df_combined = pd.read_csv(\"/data/whi/data/main_study/processed/whi_combined_nocolinear.csv\")  # combined dataset  \n",
    "df_combined[\"T\"] = df_combined[\"T\"] / df_combined[\"T\"].max()\n",
    "\n",
    "A = 0\n",
    "df_combined = df_combined.loc[df_combined.A == A].copy()\n",
    "\n",
    "df_obs = df_combined.query(\"S==1\").drop([\"S\", \"Delta\", \"const\"], axis=1).reset_index(drop=True)\n",
    "df_comp = df_combined.query(\"S==0\").reset_index(drop=True)\n",
    "\n",
    "nrct = 1000\n",
    "bfr = 0.4\n",
    "\n",
    "sb_arr = np.random.choice(df_comp.loc[df_comp.Delta==1].index, int(nrct * bfr))\n",
    "df_half1_rct = df_comp.loc[sb_arr].copy().reset_index(drop=True)\n",
    "df_comp.drop(sb_arr, axis=0, inplace=True)\n",
    "df_comp.reset_index(drop=True)\n",
    "\n",
    "nb_arr = np.random.choice(df_comp.index, int(nrct * (1 - bfr)))\n",
    "df_half2_rct = df_comp.loc[nb_arr].copy().reset_index(drop=True)\n",
    "df_comp.drop(nb_arr, axis=0, inplace=True)\n",
    "df_comp.reset_index(drop=True)\n",
    "\n",
    "df_rct = pd.concat([df_half1_rct, df_half2_rct], ignore_index=True, axis=0)\n",
    "\n",
    "df_rct = df_rct.drop([\"S\", \"Delta\", \"const\"], axis=1).reset_index(drop=True)\n",
    "df_tar = df_comp.drop([\"S\", \"Delta\", \"const\"], axis=1).reset_index(drop=True)"
   ]
  },
  {
   "cell_type": "code",
   "execution_count": null,
   "metadata": {},
   "outputs": [],
   "source": [
    "regressor_list = [*df_obs.columns[2:]]\n",
    "\n",
    "f_a_X = fit_obs_outcome_fn(df_obs, regressors=regressor_list, target=\"T\")\n",
    "g_a_X = fit_trial_outcome_fn(df_rct, regressors=regressor_list, target=\"T\")\n",
    "\n",
    "df_rct['fa(X)'] = f_a_X.predict(np.array(df_rct[regressor_list]))\n",
    "df_rct['Z'] = df_rct['fa(X)'] - df_rct['T']\n",
    "\n",
    "df_tar['fa(X)'] = f_a_X.predict(np.array(df_tar[regressor_list]))\n",
    "df_tar['ga(X)'] = g_a_X.predict(np.array(df_tar[regressor_list]))\n",
    "\n",
    "b_a_X = fit_trial_bias_fn(df_rct, regressors=regressor_list, target=\"Z\")\n",
    "df_tar['ba(X)'] = b_a_X.predict(np.array(df_tar[regressor_list]))\n",
    "\n",
    "h_a_X = fit_trial_outcome_fn(df_rct, regressors=regressor_list + [\"fa(X)\"], target=\"T\")\n",
    "df_tar['ha(X)'] = h_a_X.predict(np.array(df_tar[regressor_list + [\"fa(X)\"]]))\n"
   ]
  },
  {
   "cell_type": "code",
   "execution_count": null,
   "metadata": {},
   "outputs": [],
   "source": [
    "gt = df_tar['T'].mean()\n",
    "bsl1 = df_tar['fa(X)'].mean()\n",
    "bsl2 = df_tar['ga(X)'].mean()\n",
    "abc = df_tar['fa(X)'].mean() - df_tar['ba(X)'].mean()\n",
    "aom = df_tar['ha(X)'].mean()"
   ]
  }
 ],
 "metadata": {
  "kernelspec": {
   "display_name": "cenfal",
   "language": "python",
   "name": "python3"
  },
  "language_info": {
   "codemirror_mode": {
    "name": "ipython",
    "version": 3
   },
   "file_extension": ".py",
   "mimetype": "text/x-python",
   "name": "python",
   "nbconvert_exporter": "python",
   "pygments_lexer": "ipython3",
   "version": "3.11.5"
  }
 },
 "nbformat": 4,
 "nbformat_minor": 2
}
